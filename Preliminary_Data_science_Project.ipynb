{
  "nbformat": 4,
  "nbformat_minor": 0,
  "metadata": {
    "colab": {
      "name": "Data science Project.ipynb",
      "provenance": []
    },
    "kernelspec": {
      "name": "python3",
      "display_name": "Python 3"
    },
    "language_info": {
      "name": "python"
    }
  },
  "cells": [
    {
      "cell_type": "code",
      "metadata": {
        "id": "ksc2cKm9mOsb",
        "colab": {
          "base_uri": "https://localhost:8080/"
        },
        "outputId": "022ace0c-8a79-42e4-fa54-d43a687c8696"
      },
      "source": [
        "import pandas as pd\n",
        "import numpy as np\n",
        "import seaborn as sns\n",
        "import matplotlib.pyplot as plt\n",
        "\n",
        "import nltk\n",
        "nltk.download('stopwords')\n",
        "from nltk.corpus import stopwords\n",
        "import string\n",
        "\n",
        "from sklearn.feature_extraction.text import CountVectorizer\n",
        "from sklearn.model_selection import train_test_split\n",
        "from sklearn.metrics import confusion_matrix, classification_report\n",
        "from sklearn.metrics import accuracy_score\n",
        "from sklearn.neural_network import MLPClassifier\n",
        "\n",
        "\n",
        "%matplotlib inline\n",
        "%config InlineBackend.figure_format='retina'"
      ],
      "execution_count": null,
      "outputs": [
        {
          "output_type": "stream",
          "name": "stdout",
          "text": [
            "[nltk_data] Downloading package stopwords to /root/nltk_data...\n",
            "[nltk_data]   Package stopwords is already up-to-date!\n"
          ]
        }
      ]
    },
    {
      "cell_type": "code",
      "metadata": {
        "colab": {
          "base_uri": "https://localhost:8080/",
          "height": 589
        },
        "id": "H64GHtMnrgkb",
        "outputId": "7ab26a35-3d06-4232-b865-00ee0a346eff"
      },
      "source": [
        "yelp_df = pd.read_csv('https://raw.githubusercontent.com/rabin1323/Data_Set/main/yelp_review_csv1.csv')\n",
        "yelp_df"
      ],
      "execution_count": null,
      "outputs": [
        {
          "output_type": "execute_result",
          "data": {
            "text/html": [
              "<div>\n",
              "<style scoped>\n",
              "    .dataframe tbody tr th:only-of-type {\n",
              "        vertical-align: middle;\n",
              "    }\n",
              "\n",
              "    .dataframe tbody tr th {\n",
              "        vertical-align: top;\n",
              "    }\n",
              "\n",
              "    .dataframe thead th {\n",
              "        text-align: right;\n",
              "    }\n",
              "</style>\n",
              "<table border=\"1\" class=\"dataframe\">\n",
              "  <thead>\n",
              "    <tr style=\"text-align: right;\">\n",
              "      <th></th>\n",
              "      <th>review_id</th>\n",
              "      <th>user_id</th>\n",
              "      <th>business_id</th>\n",
              "      <th>stars</th>\n",
              "      <th>date</th>\n",
              "      <th>text</th>\n",
              "      <th>useful</th>\n",
              "      <th>funny</th>\n",
              "      <th>cool</th>\n",
              "    </tr>\n",
              "  </thead>\n",
              "  <tbody>\n",
              "    <tr>\n",
              "      <th>0</th>\n",
              "      <td>vkVSCC7xljjrAI4UGfnKEQ</td>\n",
              "      <td>bv2nCi5Qv5vroFiqKGopiw</td>\n",
              "      <td>AEx2SYEUJmTxVVB18LlCwA</td>\n",
              "      <td>5</td>\n",
              "      <td>2016-05-28</td>\n",
              "      <td>Super simple place but amazing nonetheless. It...</td>\n",
              "      <td>0</td>\n",
              "      <td>0</td>\n",
              "      <td>0</td>\n",
              "    </tr>\n",
              "    <tr>\n",
              "      <th>1</th>\n",
              "      <td>n6QzIUObkYshz4dz2QRJTw</td>\n",
              "      <td>bv2nCi5Qv5vroFiqKGopiw</td>\n",
              "      <td>VR6GpWIda3SfvPC-lg9H3w</td>\n",
              "      <td>5</td>\n",
              "      <td>2016-05-28</td>\n",
              "      <td>Small unassuming place that changes their menu...</td>\n",
              "      <td>0</td>\n",
              "      <td>0</td>\n",
              "      <td>0</td>\n",
              "    </tr>\n",
              "    <tr>\n",
              "      <th>2</th>\n",
              "      <td>MV3CcKScW05u5LVfF6ok0g</td>\n",
              "      <td>bv2nCi5Qv5vroFiqKGopiw</td>\n",
              "      <td>CKC0-MOWMqoeWf6s-szl8g</td>\n",
              "      <td>5</td>\n",
              "      <td>2016-05-28</td>\n",
              "      <td>Lester's is located in a beautiful neighborhoo...</td>\n",
              "      <td>0</td>\n",
              "      <td>0</td>\n",
              "      <td>0</td>\n",
              "    </tr>\n",
              "    <tr>\n",
              "      <th>3</th>\n",
              "      <td>IXvOzsEMYtiJI0CARmj77Q</td>\n",
              "      <td>bv2nCi5Qv5vroFiqKGopiw</td>\n",
              "      <td>ACFtxLv8pGrrxMm6EgjreA</td>\n",
              "      <td>4</td>\n",
              "      <td>2016-05-28</td>\n",
              "      <td>Love coming here. Yes the place always needs t...</td>\n",
              "      <td>0</td>\n",
              "      <td>0</td>\n",
              "      <td>0</td>\n",
              "    </tr>\n",
              "    <tr>\n",
              "      <th>4</th>\n",
              "      <td>L_9BTb55X0GDtThi6GlZ6w</td>\n",
              "      <td>bv2nCi5Qv5vroFiqKGopiw</td>\n",
              "      <td>s2I_Ni76bjJNK9yG60iD-Q</td>\n",
              "      <td>4</td>\n",
              "      <td>2016-05-28</td>\n",
              "      <td>Had their chocolate almond croissant and it wa...</td>\n",
              "      <td>0</td>\n",
              "      <td>0</td>\n",
              "      <td>0</td>\n",
              "    </tr>\n",
              "    <tr>\n",
              "      <th>...</th>\n",
              "      <td>...</td>\n",
              "      <td>...</td>\n",
              "      <td>...</td>\n",
              "      <td>...</td>\n",
              "      <td>...</td>\n",
              "      <td>...</td>\n",
              "      <td>...</td>\n",
              "      <td>...</td>\n",
              "      <td>...</td>\n",
              "    </tr>\n",
              "    <tr>\n",
              "      <th>9995</th>\n",
              "      <td>BFp9V3jzANiEdP5NmIVDRg</td>\n",
              "      <td>OUfAxCaWfFs5Hp_MPstxfA</td>\n",
              "      <td>4HVGgGI5rKvUJcaIV7ub7Q</td>\n",
              "      <td>2</td>\n",
              "      <td>2013-11-17</td>\n",
              "      <td>I've had this place two times now... Just does...</td>\n",
              "      <td>0</td>\n",
              "      <td>0</td>\n",
              "      <td>0</td>\n",
              "    </tr>\n",
              "    <tr>\n",
              "      <th>9996</th>\n",
              "      <td>LqxEIponInZxdtwTISZTpg</td>\n",
              "      <td>OUfAxCaWfFs5Hp_MPstxfA</td>\n",
              "      <td>9LAXz_VfATZ0kLdaavkN4g</td>\n",
              "      <td>4</td>\n",
              "      <td>2017-06-18</td>\n",
              "      <td>Cool place. A bit expensive when compared to t...</td>\n",
              "      <td>0</td>\n",
              "      <td>0</td>\n",
              "      <td>0</td>\n",
              "    </tr>\n",
              "    <tr>\n",
              "      <th>9997</th>\n",
              "      <td>tRQTBlFcKB65G9Ow3PI1nQ</td>\n",
              "      <td>OUfAxCaWfFs5Hp_MPstxfA</td>\n",
              "      <td>_6hReDyVSr94W2WMO1LJLw</td>\n",
              "      <td>3</td>\n",
              "      <td>2013-09-15</td>\n",
              "      <td>The best vanilla latte I have ever had! The co...</td>\n",
              "      <td>0</td>\n",
              "      <td>0</td>\n",
              "      <td>0</td>\n",
              "    </tr>\n",
              "    <tr>\n",
              "      <th>9998</th>\n",
              "      <td>rUFCKDGpuP03miyaPlv99A</td>\n",
              "      <td>OUfAxCaWfFs5Hp_MPstxfA</td>\n",
              "      <td>AghcEVxuULED2z8ibLKTww</td>\n",
              "      <td>3</td>\n",
              "      <td>2013-11-17</td>\n",
              "      <td>I've only had their Moca and it was gross! I'm...</td>\n",
              "      <td>1</td>\n",
              "      <td>0</td>\n",
              "      <td>0</td>\n",
              "    </tr>\n",
              "    <tr>\n",
              "      <th>9999</th>\n",
              "      <td>T1RSUw4s8p0QNK1Un32JMQ</td>\n",
              "      <td>Zys2Nzn3tNGDF36BAf1sBA</td>\n",
              "      <td>VLDFjeqpUgWhnVuB_8GuEg</td>\n",
              "      <td>4</td>\n",
              "      <td>2014-02-27</td>\n",
              "      <td>Went for dinner last night, food was awesome, ...</td>\n",
              "      <td>0</td>\n",
              "      <td>0</td>\n",
              "      <td>0</td>\n",
              "    </tr>\n",
              "  </tbody>\n",
              "</table>\n",
              "<p>10000 rows × 9 columns</p>\n",
              "</div>"
            ],
            "text/plain": [
              "                   review_id                 user_id  ... funny  cool\n",
              "0     vkVSCC7xljjrAI4UGfnKEQ  bv2nCi5Qv5vroFiqKGopiw  ...     0     0\n",
              "1     n6QzIUObkYshz4dz2QRJTw  bv2nCi5Qv5vroFiqKGopiw  ...     0     0\n",
              "2     MV3CcKScW05u5LVfF6ok0g  bv2nCi5Qv5vroFiqKGopiw  ...     0     0\n",
              "3     IXvOzsEMYtiJI0CARmj77Q  bv2nCi5Qv5vroFiqKGopiw  ...     0     0\n",
              "4     L_9BTb55X0GDtThi6GlZ6w  bv2nCi5Qv5vroFiqKGopiw  ...     0     0\n",
              "...                      ...                     ...  ...   ...   ...\n",
              "9995  BFp9V3jzANiEdP5NmIVDRg  OUfAxCaWfFs5Hp_MPstxfA  ...     0     0\n",
              "9996  LqxEIponInZxdtwTISZTpg  OUfAxCaWfFs5Hp_MPstxfA  ...     0     0\n",
              "9997  tRQTBlFcKB65G9Ow3PI1nQ  OUfAxCaWfFs5Hp_MPstxfA  ...     0     0\n",
              "9998  rUFCKDGpuP03miyaPlv99A  OUfAxCaWfFs5Hp_MPstxfA  ...     0     0\n",
              "9999  T1RSUw4s8p0QNK1Un32JMQ  Zys2Nzn3tNGDF36BAf1sBA  ...     0     0\n",
              "\n",
              "[10000 rows x 9 columns]"
            ]
          },
          "metadata": {},
          "execution_count": 13
        }
      ]
    },
    {
      "cell_type": "markdown",
      "metadata": {
        "id": "H6qPPoSIT-Ai"
      },
      "source": [
        "**EXPLORING DATASET**\n",
        "\n"
      ]
    },
    {
      "cell_type": "code",
      "metadata": {
        "colab": {
          "base_uri": "https://localhost:8080/"
        },
        "id": "bgrtYwY1oXt7",
        "outputId": "3f1b340b-c11b-4eeb-cd1b-cd1a57e7eed9"
      },
      "source": [
        "yelp_df.info()"
      ],
      "execution_count": null,
      "outputs": [
        {
          "output_type": "stream",
          "name": "stdout",
          "text": [
            "<class 'pandas.core.frame.DataFrame'>\n",
            "RangeIndex: 10000 entries, 0 to 9999\n",
            "Data columns (total 9 columns):\n",
            " #   Column       Non-Null Count  Dtype \n",
            "---  ------       --------------  ----- \n",
            " 0   review_id    10000 non-null  object\n",
            " 1   user_id      10000 non-null  object\n",
            " 2   business_id  10000 non-null  object\n",
            " 3   stars        10000 non-null  int64 \n",
            " 4   date         10000 non-null  object\n",
            " 5   text         10000 non-null  object\n",
            " 6   useful       10000 non-null  int64 \n",
            " 7   funny        10000 non-null  int64 \n",
            " 8   cool         10000 non-null  int64 \n",
            "dtypes: int64(4), object(5)\n",
            "memory usage: 703.2+ KB\n"
          ]
        }
      ]
    },
    {
      "cell_type": "code",
      "metadata": {
        "colab": {
          "base_uri": "https://localhost:8080/",
          "height": 297
        },
        "id": "-sN1xrzvpiV1",
        "outputId": "9bf1796c-7e6e-4ebd-cea4-a1f39bc6dfb8"
      },
      "source": [
        "yelp_df.describe()"
      ],
      "execution_count": null,
      "outputs": [
        {
          "output_type": "execute_result",
          "data": {
            "text/html": [
              "<div>\n",
              "<style scoped>\n",
              "    .dataframe tbody tr th:only-of-type {\n",
              "        vertical-align: middle;\n",
              "    }\n",
              "\n",
              "    .dataframe tbody tr th {\n",
              "        vertical-align: top;\n",
              "    }\n",
              "\n",
              "    .dataframe thead th {\n",
              "        text-align: right;\n",
              "    }\n",
              "</style>\n",
              "<table border=\"1\" class=\"dataframe\">\n",
              "  <thead>\n",
              "    <tr style=\"text-align: right;\">\n",
              "      <th></th>\n",
              "      <th>stars</th>\n",
              "      <th>useful</th>\n",
              "      <th>funny</th>\n",
              "      <th>cool</th>\n",
              "    </tr>\n",
              "  </thead>\n",
              "  <tbody>\n",
              "    <tr>\n",
              "      <th>count</th>\n",
              "      <td>10000.000000</td>\n",
              "      <td>10000.000000</td>\n",
              "      <td>10000.000000</td>\n",
              "      <td>10000.000000</td>\n",
              "    </tr>\n",
              "    <tr>\n",
              "      <th>mean</th>\n",
              "      <td>3.743700</td>\n",
              "      <td>1.669500</td>\n",
              "      <td>0.649800</td>\n",
              "      <td>0.777800</td>\n",
              "    </tr>\n",
              "    <tr>\n",
              "      <th>std</th>\n",
              "      <td>1.266322</td>\n",
              "      <td>3.059511</td>\n",
              "      <td>1.840679</td>\n",
              "      <td>1.958625</td>\n",
              "    </tr>\n",
              "    <tr>\n",
              "      <th>min</th>\n",
              "      <td>1.000000</td>\n",
              "      <td>0.000000</td>\n",
              "      <td>0.000000</td>\n",
              "      <td>0.000000</td>\n",
              "    </tr>\n",
              "    <tr>\n",
              "      <th>25%</th>\n",
              "      <td>3.000000</td>\n",
              "      <td>0.000000</td>\n",
              "      <td>0.000000</td>\n",
              "      <td>0.000000</td>\n",
              "    </tr>\n",
              "    <tr>\n",
              "      <th>50%</th>\n",
              "      <td>4.000000</td>\n",
              "      <td>1.000000</td>\n",
              "      <td>0.000000</td>\n",
              "      <td>0.000000</td>\n",
              "    </tr>\n",
              "    <tr>\n",
              "      <th>75%</th>\n",
              "      <td>5.000000</td>\n",
              "      <td>2.000000</td>\n",
              "      <td>1.000000</td>\n",
              "      <td>1.000000</td>\n",
              "    </tr>\n",
              "    <tr>\n",
              "      <th>max</th>\n",
              "      <td>5.000000</td>\n",
              "      <td>95.000000</td>\n",
              "      <td>46.000000</td>\n",
              "      <td>43.000000</td>\n",
              "    </tr>\n",
              "  </tbody>\n",
              "</table>\n",
              "</div>"
            ],
            "text/plain": [
              "              stars        useful         funny          cool\n",
              "count  10000.000000  10000.000000  10000.000000  10000.000000\n",
              "mean       3.743700      1.669500      0.649800      0.777800\n",
              "std        1.266322      3.059511      1.840679      1.958625\n",
              "min        1.000000      0.000000      0.000000      0.000000\n",
              "25%        3.000000      0.000000      0.000000      0.000000\n",
              "50%        4.000000      1.000000      0.000000      0.000000\n",
              "75%        5.000000      2.000000      1.000000      1.000000\n",
              "max        5.000000     95.000000     46.000000     43.000000"
            ]
          },
          "metadata": {},
          "execution_count": 15
        }
      ]
    },
    {
      "cell_type": "code",
      "metadata": {
        "colab": {
          "base_uri": "https://localhost:8080/",
          "height": 330
        },
        "id": "jh9m6UfvVZPL",
        "outputId": "42e7998f-4ba2-4ddf-d842-8d60ba15fbbf"
      },
      "source": [
        "#to check if we have any null values\n",
        "sns.heatmap(yelp_df.isnull(), yticklabels=False, cbar= False, cmap=\"Blues\")\n",
        "#if there is any dot on the plot that means we have null values"
      ],
      "execution_count": null,
      "outputs": [
        {
          "output_type": "execute_result",
          "data": {
            "text/plain": [
              "<matplotlib.axes._subplots.AxesSubplot at 0x7f30d242f310>"
            ]
          },
          "metadata": {},
          "execution_count": 17
        },
        {
          "output_type": "display_data",
          "data": {
            "image/png": "[encoded data removed]",
            "text/plain": [
              "<Figure size 432x288 with 1 Axes>"
            ]
          },
          "metadata": {
            "image/png": {
              "width": 349,
              "height": 296
            },
            "needs_background": "light"
          }
        }
      ]
    },
    {
      "cell_type": "code",
      "metadata": {
        "colab": {
          "base_uri": "https://localhost:8080/",
          "height": 419
        },
        "id": "tcz61WUKGQnT",
        "outputId": "86bbaa14-428a-4f84-e01e-5ce3cc3753f4"
      },
      "source": [
        "yelp_df=yelp_df.drop(['useful','funny','cool','review_id','user_id','business_id','date'], axis=1)\n",
        "yelp_df"
      ],
      "execution_count": null,
      "outputs": [
        {
          "output_type": "execute_result",
          "data": {
            "text/html": [
              "<div>\n",
              "<style scoped>\n",
              "    .dataframe tbody tr th:only-of-type {\n",
              "        vertical-align: middle;\n",
              "    }\n",
              "\n",
              "    .dataframe tbody tr th {\n",
              "        vertical-align: top;\n",
              "    }\n",
              "\n",
              "    .dataframe thead th {\n",
              "        text-align: right;\n",
              "    }\n",
              "</style>\n",
              "<table border=\"1\" class=\"dataframe\">\n",
              "  <thead>\n",
              "    <tr style=\"text-align: right;\">\n",
              "      <th></th>\n",
              "      <th>stars</th>\n",
              "      <th>text</th>\n",
              "    </tr>\n",
              "  </thead>\n",
              "  <tbody>\n",
              "    <tr>\n",
              "      <th>0</th>\n",
              "      <td>5</td>\n",
              "      <td>Super simple place but amazing nonetheless. It...</td>\n",
              "    </tr>\n",
              "    <tr>\n",
              "      <th>1</th>\n",
              "      <td>5</td>\n",
              "      <td>Small unassuming place that changes their menu...</td>\n",
              "    </tr>\n",
              "    <tr>\n",
              "      <th>2</th>\n",
              "      <td>5</td>\n",
              "      <td>Lester's is located in a beautiful neighborhoo...</td>\n",
              "    </tr>\n",
              "    <tr>\n",
              "      <th>3</th>\n",
              "      <td>4</td>\n",
              "      <td>Love coming here. Yes the place always needs t...</td>\n",
              "    </tr>\n",
              "    <tr>\n",
              "      <th>4</th>\n",
              "      <td>4</td>\n",
              "      <td>Had their chocolate almond croissant and it wa...</td>\n",
              "    </tr>\n",
              "    <tr>\n",
              "      <th>...</th>\n",
              "      <td>...</td>\n",
              "      <td>...</td>\n",
              "    </tr>\n",
              "    <tr>\n",
              "      <th>9995</th>\n",
              "      <td>2</td>\n",
              "      <td>I've had this place two times now... Just does...</td>\n",
              "    </tr>\n",
              "    <tr>\n",
              "      <th>9996</th>\n",
              "      <td>4</td>\n",
              "      <td>Cool place. A bit expensive when compared to t...</td>\n",
              "    </tr>\n",
              "    <tr>\n",
              "      <th>9997</th>\n",
              "      <td>3</td>\n",
              "      <td>The best vanilla latte I have ever had! The co...</td>\n",
              "    </tr>\n",
              "    <tr>\n",
              "      <th>9998</th>\n",
              "      <td>3</td>\n",
              "      <td>I've only had their Moca and it was gross! I'm...</td>\n",
              "    </tr>\n",
              "    <tr>\n",
              "      <th>9999</th>\n",
              "      <td>4</td>\n",
              "      <td>Went for dinner last night, food was awesome, ...</td>\n",
              "    </tr>\n",
              "  </tbody>\n",
              "</table>\n",
              "<p>10000 rows × 2 columns</p>\n",
              "</div>"
            ],
            "text/plain": [
              "      stars                                               text\n",
              "0         5  Super simple place but amazing nonetheless. It...\n",
              "1         5  Small unassuming place that changes their menu...\n",
              "2         5  Lester's is located in a beautiful neighborhoo...\n",
              "3         4  Love coming here. Yes the place always needs t...\n",
              "4         4  Had their chocolate almond croissant and it wa...\n",
              "...     ...                                                ...\n",
              "9995      2  I've had this place two times now... Just does...\n",
              "9996      4  Cool place. A bit expensive when compared to t...\n",
              "9997      3  The best vanilla latte I have ever had! The co...\n",
              "9998      3  I've only had their Moca and it was gross! I'm...\n",
              "9999      4  Went for dinner last night, food was awesome, ...\n",
              "\n",
              "[10000 rows x 2 columns]"
            ]
          },
          "metadata": {},
          "execution_count": 7
        }
      ]
    },
    {
      "cell_type": "code",
      "metadata": {
        "id": "MOS6AQRzZ_yE"
      },
      "source": [
        "#data cleaning\n",
        "def preprocess(review_text):\n",
        "  remove_pctn=[char for char in review_text if char not in string.punctuation]\n",
        "  remove_pctn= ''.join(remove_pctn)\n",
        "  lwr = [word.lower() for word in remove_pctn.split()]\n",
        "  final_word = [word for word in lwr if word not in stopwords.words('english')]\n",
        "  return final_word"
      ],
      "execution_count": null,
      "outputs": []
    },
    {
      "cell_type": "markdown",
      "metadata": {
        "id": "UkdwAbP4r17p"
      },
      "source": [
        "For the sentiment analsysis we want to consider only two types of stars here i.e, one star for negative reviews and fives stars for positive reviews.\n",
        "\n",
        "We will also use count vectorizer to make a model which will be used to understand the review text. After that we will transform the vectorized text and assign to variable x. Lastly, we will split the entire data to train and test model using train_test_split()"
      ]
    },
    {
      "cell_type": "code",
      "metadata": {
        "id": "t4ZWhz73juO1"
      },
      "source": [
        "#Filtering Data\n",
        "filtered_data = yelp_df[(yelp_df['stars']==1) | (yelp_df['stars']==5)]\n",
        "x = filtered_data['text'] #assigning review text to variable x\n",
        "y=filtered_data['stars'] #assigning stars to variable y\n",
        "vectorizer=CountVectorizer(analyzer=preprocess).fit(x)\n",
        "x=vectorizer.transform(x) #transforming the vectorized text \n",
        "X_train, X_test, y_train, y_test= train_test_split(x, y, random_state=42)"
      ],
      "execution_count": null,
      "outputs": []
    },
    {
      "cell_type": "code",
      "metadata": {
        "colab": {
          "base_uri": "https://localhost:8080/",
          "height": 349
        },
        "id": "PnUf2tuXZ9v3",
        "outputId": "b8bce8d6-3034-4794-8dfb-c7cae08bbc17"
      },
      "source": [
        "sns.countplot(filtered_data['stars'])"
      ],
      "execution_count": null,
      "outputs": [
        {
          "output_type": "stream",
          "name": "stderr",
          "text": [
            "/usr/local/lib/python3.7/dist-packages/seaborn/_decorators.py:43: FutureWarning: Pass the following variable as a keyword arg: x. From version 0.12, the only valid positional argument will be `data`, and passing other arguments without an explicit keyword will result in an error or misinterpretation.\n",
            "  FutureWarning\n"
          ]
        },
        {
          "output_type": "execute_result",
          "data": {
            "text/plain": [
              "<matplotlib.axes._subplots.AxesSubplot at 0x7f30dbdcb490>"
            ]
          },
          "metadata": {},
          "execution_count": 25
        },
        {
          "output_type": "display_data",
          "data": {
            "image/png": "[encoded data removed]",
            "text/plain": [
              "<Figure size 432x288 with 1 Axes>"
            ]
          },
          "metadata": {
            "image/png": {
              "width": 395,
              "height": 261
            },
            "needs_background": "light"
          }
        }
      ]
    },
    {
      "cell_type": "code",
      "metadata": {
        "id": "FUaoN760ue-6"
      },
      "source": [
        "model= MLPClassifier()\n",
        "model.fit(X_train, y_train)\n",
        "y_predict = model.predict(X_test)"
      ],
      "execution_count": null,
      "outputs": []
    },
    {
      "cell_type": "code",
      "metadata": {
        "id": "anNUziIieh4x"
      },
      "source": [
        "#plotting the reviews using confusion matrix\n",
        "def conf_matrix(y, y_predict, reviews, title= 'Confusion_Matrix'):\n",
        "  c_matrix = confusion_matrix(y, y_predict)\n",
        "  clsfn_report = classification_report(y, y_predict)\n",
        "  ticks = np.arange(len(reviews))\n",
        "  score = accuracy_score(y, y_predict)\n",
        "  score=round(score*100,2)\n",
        "  print(\"Accuracy_score:\", score)\n",
        "  print('classification_report', clsfn_report)\n",
        "  sns.heatmap(c_matrix, cmap= 'PuBu', annot= True, fmt='g', annot_kws={'size':20})\n",
        "  plt.xticks(ticks, reviews)\n",
        "  plt.yticks(ticks, reviews)\n",
        "  plt.xlabel('predicted', fontsize=20)\n",
        "  plt.ylabel('actual', fontsize=20)\n",
        "  plt.title(title, fontsize=20)\n",
        "  plt.show"
      ],
      "execution_count": null,
      "outputs": []
    },
    {
      "cell_type": "code",
      "metadata": {
        "colab": {
          "base_uri": "https://localhost:8080/",
          "height": 488
        },
        "id": "YS83SiUwjbtL",
        "outputId": "83f1fc5b-7a1a-4a9a-e821-5331a77e0366"
      },
      "source": [
        "conf_matrix(y_test, y_predict, reviews=['negative(1)', 'positive(5'])"
      ],
      "execution_count": null,
      "outputs": [
        {
          "output_type": "stream",
          "name": "stdout",
          "text": [
            "Accuracy_score: 93.86\n",
            "classification_report               precision    recall  f1-score   support\n",
            "\n",
            "           1       0.94      0.76      0.84       234\n",
            "           5       0.94      0.99      0.96       873\n",
            "\n",
            "    accuracy                           0.94      1107\n",
            "   macro avg       0.94      0.87      0.90      1107\n",
            "weighted avg       0.94      0.94      0.94      1107\n",
            "\n"
          ]
        },
        {
          "output_type": "display_data",
          "data": {
            "image/png": "[encoded data removed]",
            "text/plain": [
              "<Figure size 432x288 with 2 Axes>"
            ]
          },
          "metadata": {
            "image/png": {
              "width": 376,
              "height": 301
            },
            "needs_background": "light"
          }
        }
      ]
    },
    {
      "cell_type": "markdown",
      "metadata": {
        "id": "LFHnPOdZT7bQ"
      },
      "source": [
        "The Accuracy is 93.86 % which is a good sign. "
      ]
    }
  ]
}